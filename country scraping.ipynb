{
 "cells": [
  {
   "cell_type": "code",
   "execution_count": 116,
   "id": "8e1d959f",
   "metadata": {},
   "outputs": [],
   "source": [
    "from selenium import webdriver\n",
    "from selenium.webdriver.common.keys import Keys\n",
    "from selenium.webdriver.chrome.options import Options\n",
    "from time import sleep\n",
    "import os\n",
    "option = webdriver.ChromeOptions()\n",
    "\n",
    "import pandas as pd\n",
    "import numpy as np\n",
    "\n",
    "chrome_prefs = {}\n",
    "option.experimental_options[\"prefs\"] = chrome_prefs\n",
    "chrome_prefs[\"profile.default_content_settings\"] = {\"images\": 2}\n",
    "chrome_prefs[\"profile.managed_default_content_settings\"] = {\"images\": 2}"
   ]
  },
  {
   "cell_type": "markdown",
   "id": "61f90253",
   "metadata": {},
   "source": [
    "# INIT"
   ]
  },
  {
   "cell_type": "code",
   "execution_count": 207,
   "id": "a3d27cbc",
   "metadata": {},
   "outputs": [
    {
     "name": "stderr",
     "output_type": "stream",
     "text": [
      "<ipython-input-207-e79d1a5ab845>:1: DeprecationWarning: use options instead of chrome_options\n",
      "  driver = webdriver.Chrome(path+\"/chromedriver\" ,chrome_options=option)\n"
     ]
    }
   ],
   "source": [
    "\"\"\"\n",
    "เป็นการ inititial browser หรือการเปิด browser ของ selenium ===>(ต้องเปิดก่อนใช้ selenium เสมอ)<===\n",
    "\"\"\"\n",
    "driver = webdriver.Chrome(path+\"/chromedriver\" ,chrome_options=option)"
   ]
  },
  {
   "cell_type": "code",
   "execution_count": 129,
   "id": "191f9e80",
   "metadata": {
    "scrolled": false
   },
   "outputs": [],
   "source": []
  },
  {
   "cell_type": "markdown",
   "id": "cce0777b",
   "metadata": {},
   "source": [
    "# visit web"
   ]
  },
  {
   "cell_type": "code",
   "execution_count": 130,
   "id": "eb5b0325",
   "metadata": {
    "scrolled": true
   },
   "outputs": [],
   "source": [
    "from bs4 import BeautifulSoup\n",
    "\n",
    "\"\"\"\n",
    "ตัวนี้เป็นการเปิดไปหน้าแรกของเว็ป\n",
    "โดยคำสั่ง get คือการให้ browser เข้าไป visit url ที่ส่งเข้าไป\n",
    "html_data = driver.page_source // คือการไปดึง html elements ต่างๆ ของปลายทางมาเก็บไว้ใน html_data\n",
    "soup คือการนำ html elements มาแปลง type เป็น soup เพื่อจะนำไปใช้ในงานของ soup ต่อไป\n",
    "\"\"\"\n",
    "\n",
    "url = \"https://www.britannica.com/topic/list-of-countries-1993160\"\n",
    "driver.get(url)\n",
    "sleep(0.5)\n",
    "\n",
    "html_data = driver.page_source\n",
    "soup = BeautifulSoup(html_data ,\"html.parser\")"
   ]
  },
  {
   "cell_type": "code",
   "execution_count": 205,
   "id": "8497907c",
   "metadata": {
    "scrolled": true
   },
   "outputs": [],
   "source": [
    "import re\n",
    "\"\"\"\n",
    "ต่อจากด้านบนส่วนนี้จะเป็นการใช้ regular expression ในการสกัด link ออกมา (ขั้นตอนนี้จะไม่ได้ใช้ soup)\n",
    "r'<a href=\"(https://www.britannica.com/place/(.*?)) ==> จาก pattern คือการสกัด \n",
    "pattern (https://www.britannica.com/place/(กี่ตัวอักษรก็ได้ และมีได้แค่ชุดเดียว) ปล.ลองลบ ? เพื่อความเข้าใจ\n",
    "\"\"\"\n",
    "\n",
    "#name = re.findall(r'<a href=\"https://www.britannica.com/place/(.*?)\" ',str(html_data))\n",
    "regx_link = re.findall(r'<a href=\"(https://www.britannica.com/place/(.*?))\" ',str(html_data))\n",
    "links = []\n",
    "for ele in regx_link:\n",
    "    link  = ele[0]\n",
    "    links.append(link)\n",
    "    "
   ]
  },
  {
   "cell_type": "code",
   "execution_count": 208,
   "id": "2c5a5f18",
   "metadata": {},
   "outputs": [],
   "source": [
    "nameList = []\n",
    "info = []\n",
    "flagUrl = []\n",
    "\n",
    "for url in links:\n",
    "    driver.get(url)\n",
    "    soup = BeautifulSoup(driver.page_source ,\"html.parser\")\n",
    "    nameOfCountry = soup.select(\"h1.mb-0\")\n",
    "    if (nameOfCountry) :  \n",
    "        name = nameOfCountry[0].get_text()\n",
    "        nameList.append(name)\n",
    "        \n",
    "    else:\n",
    "        None"
   ]
  },
  {
   "cell_type": "raw",
   "id": "6d9fb8af",
   "metadata": {},
   "source": [
    "# with beutifulSoup\n",
    "linksAndName = soup.select(\"a.md-crosslink\")\n",
    "linksAndName[:5]"
   ]
  },
  {
   "cell_type": "raw",
   "id": "f6f34e8d",
   "metadata": {
    "scrolled": true
   },
   "source": [
    "links= []\n",
    "lisnksEle = linksAndName\n",
    "countries = []\n",
    "for link in lisnksEle:\n",
    "    href = link.get(\"href\")\n",
    "    country = link.get_text()\n",
    "    links.append(href)\n",
    "    Countries.append(country)"
   ]
  },
  {
   "cell_type": "code",
   "execution_count": 89,
   "id": "60f9388d",
   "metadata": {},
   "outputs": [],
   "source": [
    "# เอาลิ้งค์มาให้ selenium วิ่งเข้าไป"
   ]
  },
  {
   "cell_type": "code",
   "execution_count": 213,
   "id": "b48b28d9",
   "metadata": {},
   "outputs": [],
   "source": [
    "url1 = links[5]\n",
    "driver.get(url1)\n",
    "info = driver.page_source\n",
    "info = re.findall(r'<p class=\"topic-paragraph\">(.*?)</p>' , str(info))"
   ]
  },
  {
   "cell_type": "code",
   "execution_count": null,
   "id": "56c9e216",
   "metadata": {},
   "outputs": [],
   "source": []
  }
 ],
 "metadata": {
  "kernelspec": {
   "display_name": "Python 3",
   "language": "python",
   "name": "python3"
  },
  "language_info": {
   "codemirror_mode": {
    "name": "ipython",
    "version": 3
   },
   "file_extension": ".py",
   "mimetype": "text/x-python",
   "name": "python",
   "nbconvert_exporter": "python",
   "pygments_lexer": "ipython3",
   "version": "3.8.8"
  }
 },
 "nbformat": 4,
 "nbformat_minor": 5
}
