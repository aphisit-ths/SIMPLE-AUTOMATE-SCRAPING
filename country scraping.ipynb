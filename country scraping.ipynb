{
 "cells": [
  {
   "cell_type": "code",
   "execution_count": 5,
   "id": "8e1d959f",
   "metadata": {},
   "outputs": [],
   "source": [
    "from selenium import webdriver\n",
    "from selenium.webdriver.common.keys import Keys\n",
    "from selenium.webdriver.chrome.options import Options\n",
    "from time import sleep\n",
    "import os\n",
    "option = webdriver.ChromeOptions()\n",
    "from bs4 import BeautifulSoup\n",
    "import numpy as np\n",
    "import requests\n",
    "import pandas as pd\n",
    "chrome_prefs = {}\n",
    "option.experimental_options[\"prefs\"] = chrome_prefs\n",
    "chrome_prefs[\"profile.default_content_settings\"] = {\"images\": 2}\n",
    "chrome_prefs[\"profile.managed_default_content_settings\"] = {\"images\": 2}"
   ]
  },
  {
   "cell_type": "markdown",
   "id": "61f90253",
   "metadata": {},
   "source": [
    "# INIT"
   ]
  },
  {
   "cell_type": "raw",
   "id": "508fcdc9",
   "metadata": {},
   "source": [
    "\"\"\"\n",
    "เป็นการ inititial browser หรือการเปิด browser ของ selenium ===>(ต้องเปิดก่อนใช้ selenium เสมอ)<===\n",
    "\"\"\"\n",
    "path = os.getcwd()\n",
    "driver = webdriver.Chrome(path+\"/chromedriver\" ,chrome_options=option)"
   ]
  },
  {
   "cell_type": "markdown",
   "id": "cce0777b",
   "metadata": {},
   "source": [
    "# visit web"
   ]
  },
  {
   "cell_type": "raw",
   "id": "a54b2d50",
   "metadata": {
    "scrolled": true
   },
   "source": [
    "\n",
    "\n",
    "\"\"\"\n",
    "ตัวนี้เป็นการเปิดไปหน้าแรกของเว็ป\n",
    "โดยคำสั่ง get คือการให้ browser เข้าไป visit url ที่ส่งเข้าไป\n",
    "html_data = driver.page_source // คือการไปดึง html elements ต่างๆ ของปลายทางมาเก็บไว้ใน html_data\n",
    "soup คือการนำ html elements มาแปลง type เป็น soup เพื่อจะนำไปใช้ในงานของ soup ต่อไป\n",
    "\"\"\"\n",
    "\n",
    "url = \"https://www.britannica.com/topic/list-of-countries-1993160\"\n",
    "driver.get(url)\n",
    "sleep(0.5)\n",
    "\n",
    "#html_data = driver.page_source\n",
    "soup = BeautifulSoup(html_data ,\"html.parser\")"
   ]
  },
  {
   "cell_type": "code",
   "execution_count": 6,
   "id": "8497907c",
   "metadata": {
    "scrolled": true
   },
   "outputs": [],
   "source": [
    "import re\n",
    "\"\"\"\n",
    "ต่อจากด้านบนส่วนนี้จะเป็นการใช้ regular expression ในการสกัด link ออกมา (ขั้นตอนนี้จะไม่ได้ใช้ soup)\n",
    "r'<a href=\"(https://www.britannica.com/place/(.*?)) ==> จาก pattern คือการสกัด \n",
    "pattern (https://www.britannica.com/place/(กี่ตัวอักษรก็ได้ และมีได้แค่ชุดเดียว) ปล.ลองลบ ? เพื่อความเข้าใจ\n",
    "\"\"\"\n",
    "url = \"https://www.britannica.com/topic/list-of-countries-1993160\"\n",
    "html_data = requests.get(url).text\n",
    "#name = re.findall(r'<a href=\"https://www.britannica.com/place/(.*?)\" ',str(html_data))\n",
    "regx_link = re.findall(r'<a href=\"(https://www.britannica.com/place/(.*?))\" ',str(html_data))\n",
    "links = []\n",
    "for ele in regx_link:\n",
    "    link  = ele[0]\n",
    "    links.append(link)\n",
    "    "
   ]
  },
  {
   "cell_type": "code",
   "execution_count": 7,
   "id": "2c5a5f18",
   "metadata": {
    "scrolled": true
   },
   "outputs": [],
   "source": [
    "name_of_country = []\n",
    "info = []\n",
    "list_flag = []\n",
    "list_capital = []\n",
    "\n",
    "for url in links:\n",
    "    #driver.get(url)\n",
    "    #soup = BeautifulSoup(driver.page_source ,\"html.parser\")\n",
    "    r = requests.get(url)\n",
    "    req = r.text\n",
    "   \n",
    "    ## GET NAME OF COUNTRY\n",
    "    soup = BeautifulSoup(req ,\"html.parser\")\n",
    "    nameOfCountry = soup.select(\"h1.mb-0\")\n",
    "    if (nameOfCountry ) :  \n",
    "        name = nameOfCountry[0].get_text()\n",
    "        name_of_country.append(name)\n",
    "        \n",
    "    ## GET FLAG URL\n",
    "        linkFlag = re.findall('<img loading=\"lazy\" src=\"(.*?lag.*?)\"',req) #flag 2 แบบ Flag flag ทำให้ไม่ matched เลยใช้แค่ (_lag)\n",
    "        if(linkFlag):\n",
    "            list_flag.append(linkFlag[0])\n",
    "        else:\n",
    "            linkFlag = re.findall('<img loading=\"lazy\" src=\"(.*?FLAG.*?)\"',req)\n",
    "            if(linkFlag): \n",
    "                    list_flag.append(linkFlag[0])\n",
    "            else:\n",
    "                linkFlag = re.findall('<img loading=\"lazy\" src=\"(.*?)\"',req) #ใช้กับประเทศ South Sudan เพราะใน link ไม่มีคำว่า flag เลย \n",
    "                list_flag.append(linkFlag[1])\n",
    "    ## GET CAPTITAL\n",
    "        nameOfCapital = re.findall('<a href=\"/place/.*?>(.*?)</a>',req)\n",
    "        if(nameOfCapital):\n",
    "            list_capital.append(nameOfCapital[0])\n",
    "        else:\n",
    "            nameOfCapital = re.findall('<dt class=\"d-inline\">Capital:</dt>\\n\\t\\t\\t\\t<dd class=\"d-inline\">\\n\\t\\t\\t\\t\\t<span class=\"fact-item\">(.*?)<',req)\n",
    "            #list_capital.append(nameOfCapital[1])\n",
    "            if(nameOfCapital):\n",
    "                  list_capital.append(nameOfCapital[0])\n",
    "            else:\n",
    "                  list_capital.append(\"NAN\")\n",
    "    else:\n",
    "        nameList.append(\"NAN\")\n",
    "        "
   ]
  },
  {
   "cell_type": "markdown",
   "id": "bc6da162",
   "metadata": {},
   "source": [
    "# PACKING TO DATAFRAME\n"
   ]
  },
  {
   "cell_type": "code",
   "execution_count": 19,
   "id": "0fb9f7e5",
   "metadata": {},
   "outputs": [],
   "source": [
    "name_of_country = np.array(name_of_country)\n",
    "list_flag = np.array(list_flag)\n",
    "list_capital = np.array(list_capital)\n",
    "\n",
    "name_df = pd.DataFrame(name_of_country ,columns=[\"name\"])\n",
    "capital_df = pd.DataFrame(list_capital ,columns=[\"capital\"])\n",
    "flagUrl_df = pd.DataFrame(list_flag ,columns=[\"flagUrl\"])\n",
    "\n",
    "pack = [name_df ,capital_df ,flagUrl_df]\n",
    "\n",
    "country_data = pd.concat(pack, axis=1, join=\"inner\")"
   ]
  },
  {
   "cell_type": "code",
   "execution_count": 20,
   "id": "f3cb1693",
   "metadata": {},
   "outputs": [
    {
     "data": {
      "text/html": [
       "<div>\n",
       "<style scoped>\n",
       "    .dataframe tbody tr th:only-of-type {\n",
       "        vertical-align: middle;\n",
       "    }\n",
       "\n",
       "    .dataframe tbody tr th {\n",
       "        vertical-align: top;\n",
       "    }\n",
       "\n",
       "    .dataframe thead th {\n",
       "        text-align: right;\n",
       "    }\n",
       "</style>\n",
       "<table border=\"1\" class=\"dataframe\">\n",
       "  <thead>\n",
       "    <tr style=\"text-align: right;\">\n",
       "      <th></th>\n",
       "      <th>name</th>\n",
       "      <th>capital</th>\n",
       "      <th>flagUrl</th>\n",
       "    </tr>\n",
       "  </thead>\n",
       "  <tbody>\n",
       "    <tr>\n",
       "      <th>0</th>\n",
       "      <td>Afghanistan</td>\n",
       "      <td>Kabul</td>\n",
       "      <td>https://cdn.britannica.com/40/5340-050-AA46700...</td>\n",
       "    </tr>\n",
       "    <tr>\n",
       "      <th>1</th>\n",
       "      <td>Albania</td>\n",
       "      <td>Tirana</td>\n",
       "      <td>https://cdn.britannica.com/00/6200-050-2E25CE9...</td>\n",
       "    </tr>\n",
       "    <tr>\n",
       "      <th>2</th>\n",
       "      <td>Algeria</td>\n",
       "      <td>Algiers</td>\n",
       "      <td>https://cdn.britannica.com/34/3034-050-077DE27...</td>\n",
       "    </tr>\n",
       "    <tr>\n",
       "      <th>3</th>\n",
       "      <td>Andorra</td>\n",
       "      <td>Andorra la Vella</td>\n",
       "      <td>https://cdn.britannica.com/83/5583-050-2F48FD3...</td>\n",
       "    </tr>\n",
       "    <tr>\n",
       "      <th>4</th>\n",
       "      <td>Angola</td>\n",
       "      <td>Luanda</td>\n",
       "      <td>https://cdn.britannica.com/12/4212-050-FC69793...</td>\n",
       "    </tr>\n",
       "    <tr>\n",
       "      <th>...</th>\n",
       "      <td>...</td>\n",
       "      <td>...</td>\n",
       "      <td>...</td>\n",
       "    </tr>\n",
       "    <tr>\n",
       "      <th>191</th>\n",
       "      <td>Venezuela</td>\n",
       "      <td>Caracas</td>\n",
       "      <td>https://cdn.britannica.com/04/4904-050-4D71EA8...</td>\n",
       "    </tr>\n",
       "    <tr>\n",
       "      <th>192</th>\n",
       "      <td>Vietnam</td>\n",
       "      <td>Hanoi</td>\n",
       "      <td>https://cdn.britannica.com/41/4041-050-BB4577F...</td>\n",
       "    </tr>\n",
       "    <tr>\n",
       "      <th>193</th>\n",
       "      <td>Yemen</td>\n",
       "      <td>Sanaa</td>\n",
       "      <td>https://cdn.britannica.com/85/5785-050-B3B0056...</td>\n",
       "    </tr>\n",
       "    <tr>\n",
       "      <th>194</th>\n",
       "      <td>Zambia</td>\n",
       "      <td>Lusaka</td>\n",
       "      <td>https://cdn.britannica.com/31/4231-050-B24F289...</td>\n",
       "    </tr>\n",
       "    <tr>\n",
       "      <th>195</th>\n",
       "      <td>Zimbabwe</td>\n",
       "      <td>Harare</td>\n",
       "      <td>https://cdn.britannica.com/33/4233-050-3A1705E...</td>\n",
       "    </tr>\n",
       "  </tbody>\n",
       "</table>\n",
       "<p>196 rows × 3 columns</p>\n",
       "</div>"
      ],
      "text/plain": [
       "            name           capital  \\\n",
       "0    Afghanistan             Kabul   \n",
       "1        Albania            Tirana   \n",
       "2        Algeria           Algiers   \n",
       "3        Andorra  Andorra la Vella   \n",
       "4         Angola            Luanda   \n",
       "..           ...               ...   \n",
       "191    Venezuela           Caracas   \n",
       "192      Vietnam             Hanoi   \n",
       "193        Yemen             Sanaa   \n",
       "194       Zambia            Lusaka   \n",
       "195     Zimbabwe            Harare   \n",
       "\n",
       "                                               flagUrl  \n",
       "0    https://cdn.britannica.com/40/5340-050-AA46700...  \n",
       "1    https://cdn.britannica.com/00/6200-050-2E25CE9...  \n",
       "2    https://cdn.britannica.com/34/3034-050-077DE27...  \n",
       "3    https://cdn.britannica.com/83/5583-050-2F48FD3...  \n",
       "4    https://cdn.britannica.com/12/4212-050-FC69793...  \n",
       "..                                                 ...  \n",
       "191  https://cdn.britannica.com/04/4904-050-4D71EA8...  \n",
       "192  https://cdn.britannica.com/41/4041-050-BB4577F...  \n",
       "193  https://cdn.britannica.com/85/5785-050-B3B0056...  \n",
       "194  https://cdn.britannica.com/31/4231-050-B24F289...  \n",
       "195  https://cdn.britannica.com/33/4233-050-3A1705E...  \n",
       "\n",
       "[196 rows x 3 columns]"
      ]
     },
     "execution_count": 20,
     "metadata": {},
     "output_type": "execute_result"
    }
   ],
   "source": [
    "country_data"
   ]
  },
  {
   "cell_type": "markdown",
   "id": "5c33da13",
   "metadata": {},
   "source": [
    "# PACK TO JSON"
   ]
  },
  {
   "cell_type": "code",
   "execution_count": 57,
   "id": "2ffd3497",
   "metadata": {
    "scrolled": false
   },
   "outputs": [
    {
     "data": {
      "text/plain": [
       "[{'name': 'Afghanistan',\n",
       "  'capital': 'Kabul',\n",
       "  'flagUrl': 'https://cdn.britannica.com/40/5340-050-AA46700D/Flag-Afghanistan.jpg?w=400&h=235&c=crop'},\n",
       " {'name': 'Albania',\n",
       "  'capital': 'Tirana',\n",
       "  'flagUrl': 'https://cdn.britannica.com/00/6200-050-2E25CE97/Flag-Albania.jpg?w=400&h=235&c=crop'},\n",
       " {'name': 'Algeria',\n",
       "  'capital': 'Algiers',\n",
       "  'flagUrl': 'https://cdn.britannica.com/34/3034-050-077DE27D/Flag-Algeria.jpg?w=400&h=235&c=crop'},\n",
       " {'name': 'Andorra',\n",
       "  'capital': 'Andorra la Vella',\n",
       "  'flagUrl': 'https://cdn.britannica.com/83/5583-050-2F48FD32/Flag-Andorra.jpg?w=400&h=235&c=crop'},\n",
       " {'name': 'Angola',\n",
       "  'capital': 'Luanda',\n",
       "  'flagUrl': 'https://cdn.britannica.com/12/4212-050-FC697931/Flag-Angola.jpg?w=400&h=235&c=crop'}]"
      ]
     },
     "execution_count": 57,
     "metadata": {},
     "output_type": "execute_result"
    }
   ],
   "source": [
    "\"\"\"\n",
    "to_json(orient='records') จะ return เป็นแค่ String\n",
    "การที่จะทำให้เป็น json files จำเป็นต้อง parsed โดยการใช้ json.loads(\"...json string fomat...\")\n",
    "\"\"\"\n",
    "import json\n",
    "json_str = country_data.to_json(orient='records')\n",
    "parsed = json.loads(json_str)\n",
    "parsed[:5]"
   ]
  },
  {
   "cell_type": "code",
   "execution_count": null,
   "id": "68b994f6",
   "metadata": {},
   "outputs": [],
   "source": []
  }
 ],
 "metadata": {
  "kernelspec": {
   "display_name": "Python 3",
   "language": "python",
   "name": "python3"
  },
  "language_info": {
   "codemirror_mode": {
    "name": "ipython",
    "version": 3
   },
   "file_extension": ".py",
   "mimetype": "text/x-python",
   "name": "python",
   "nbconvert_exporter": "python",
   "pygments_lexer": "ipython3",
   "version": "3.8.8"
  }
 },
 "nbformat": 4,
 "nbformat_minor": 5
}
