{
 "cells": [
  {
   "cell_type": "code",
   "execution_count": 4,
   "id": "8e1d959f",
   "metadata": {},
   "outputs": [],
   "source": [
    "from selenium import webdriver\n",
    "from selenium.webdriver.common.keys import Keys\n",
    "from selenium.webdriver.chrome.options import Options\n",
    "from time import sleep\n",
    "import os\n",
    "option = webdriver.ChromeOptions()\n",
    "\n",
    "import numpy as np\n",
    "import requests\n",
    "chrome_prefs = {}\n",
    "option.experimental_options[\"prefs\"] = chrome_prefs\n",
    "chrome_prefs[\"profile.default_content_settings\"] = {\"images\": 2}\n",
    "chrome_prefs[\"profile.managed_default_content_settings\"] = {\"images\": 2}"
   ]
  },
  {
   "cell_type": "markdown",
   "id": "61f90253",
   "metadata": {},
   "source": [
    "# INIT"
   ]
  },
  {
   "cell_type": "code",
   "execution_count": 6,
   "id": "a3d27cbc",
   "metadata": {},
   "outputs": [
    {
     "name": "stderr",
     "output_type": "stream",
     "text": [
      "<ipython-input-6-57e34ef03da3>:5: DeprecationWarning: use options instead of chrome_options\n",
      "  driver = webdriver.Chrome(path+\"/chromedriver\" ,chrome_options=option)\n"
     ]
    }
   ],
   "source": [
    "\"\"\"\n",
    "เป็นการ inititial browser หรือการเปิด browser ของ selenium ===>(ต้องเปิดก่อนใช้ selenium เสมอ)<===\n",
    "\"\"\"\n",
    "path = os.getcwd()\n",
    "driver = webdriver.Chrome(path+\"/chromedriver\" ,chrome_options=option)"
   ]
  },
  {
   "cell_type": "markdown",
   "id": "cce0777b",
   "metadata": {},
   "source": [
    "# visit web"
   ]
  },
  {
   "cell_type": "code",
   "execution_count": 16,
   "id": "eb5b0325",
   "metadata": {
    "scrolled": true
   },
   "outputs": [],
   "source": [
    "from bs4 import BeautifulSoup\n",
    "\n",
    "\"\"\"\n",
    "ตัวนี้เป็นการเปิดไปหน้าแรกของเว็ป\n",
    "โดยคำสั่ง get คือการให้ browser เข้าไป visit url ที่ส่งเข้าไป\n",
    "html_data = driver.page_source // คือการไปดึง html elements ต่างๆ ของปลายทางมาเก็บไว้ใน html_data\n",
    "soup คือการนำ html elements มาแปลง type เป็น soup เพื่อจะนำไปใช้ในงานของ soup ต่อไป\n",
    "\"\"\"\n",
    "\n",
    "url = \"https://www.britannica.com/topic/list-of-countries-1993160\"\n",
    "driver.get(url)\n",
    "sleep(0.5)\n",
    "\n",
    "html_data = driver.page_source\n",
    "soup = BeautifulSoup(html_data ,\"html.parser\")"
   ]
  },
  {
   "cell_type": "code",
   "execution_count": 17,
   "id": "8497907c",
   "metadata": {
    "scrolled": true
   },
   "outputs": [],
   "source": [
    "import re\n",
    "\"\"\"\n",
    "ต่อจากด้านบนส่วนนี้จะเป็นการใช้ regular expression ในการสกัด link ออกมา (ขั้นตอนนี้จะไม่ได้ใช้ soup)\n",
    "r'<a href=\"(https://www.britannica.com/place/(.*?)) ==> จาก pattern คือการสกัด \n",
    "pattern (https://www.britannica.com/place/(กี่ตัวอักษรก็ได้ และมีได้แค่ชุดเดียว) ปล.ลองลบ ? เพื่อความเข้าใจ\n",
    "\"\"\"\n",
    "\n",
    "#name = re.findall(r'<a href=\"https://www.britannica.com/place/(.*?)\" ',str(html_data))\n",
    "regx_link = re.findall(r'<a href=\"(https://www.britannica.com/place/(.*?))\" ',str(html_data))\n",
    "links = []\n",
    "for ele in regx_link:\n",
    "    link  = ele[0]\n",
    "    links.append(link)\n",
    "    "
   ]
  },
  {
   "cell_type": "code",
   "execution_count": 56,
   "id": "2c5a5f18",
   "metadata": {
    "scrolled": true
   },
   "outputs": [],
   "source": [
    "name_of_country = []\n",
    "info = []\n",
    "list_flag = []\n",
    "list_capital = []\n",
    "\n",
    "for url in links:\n",
    "    #driver.get(url)\n",
    "    #soup = BeautifulSoup(driver.page_source ,\"html.parser\")\n",
    "    r = requests.get(url)\n",
    "    req = r.text\n",
    "   \n",
    "    ## GET NAME OF COUNTRY\n",
    "    soup = BeautifulSoup(req ,\"html.parser\")\n",
    "    nameOfCountry = soup.select(\"h1.mb-0\")\n",
    "    if (nameOfCountry ) :  \n",
    "        name = nameOfCountry[0].get_text()\n",
    "        name_of_country.append(name)\n",
    "        \n",
    "    ## GET FLAG URL\n",
    "        linkFlag = re.findall('<img loading=\"lazy\" src=\"(.*?lag.*?)\"',req) #flag 2 แบบ Flag flag ทำให้ไม่ matched เลยใช้แค่ (_lag)\n",
    "        if(linkFlag):\n",
    "            list_flag.append(linkFlag[0])\n",
    "        else:\n",
    "            linkFlag = re.findall('<img loading=\"lazy\" src=\"(.*?FLAG.*?)\"',req)\n",
    "            if(linkFlag): \n",
    "                    list_flag.append(linkFlag[0])\n",
    "            else:\n",
    "                linkFlag = re.findall('<img loading=\"lazy\" src=\"(.*?)\"',req) #ใช้กับประเทศ South Sudan เพราะใน link ไม่มีคำว่า flag เลย \n",
    "                list_flag.append(linkFlag[1])\n",
    "    ## GET CAPTITAL\n",
    "        nameOfCapital = re.findall('<a href=\"/place/.*?>(.*?)</a>',req)\n",
    "        if(nameOfCapital):\n",
    "            list_capital.append(nameOfCapital[0])\n",
    "        else:\n",
    "            nameOfCapital = re.findall('<dt class=\"d-inline\">Capital:</dt>\\n\\t\\t\\t\\t<dd class=\"d-inline\">\\n\\t\\t\\t\\t\\t<span class=\"fact-item\">(.*?)<',req)\n",
    "            #list_capital.append(nameOfCapital[1])\n",
    "            if(nameOfCapital):\n",
    "                  list_capital.append(nameOfCapital[0])\n",
    "            else:\n",
    "                  list_capital.append(\"NAN\")\n",
    "    else:\n",
    "        nameList.append(\"NAN\")\n",
    "        "
   ]
  },
  {
   "cell_type": "markdown",
   "id": "99bd81b6",
   "metadata": {},
   "source": [
    "# PACKING TO DATAFRAME\n"
   ]
  },
  {
   "cell_type": "code",
   "execution_count": 66,
   "id": "220a83c8",
   "metadata": {},
   "outputs": [
    {
     "ename": "AttributeError",
     "evalue": "partially initialized module 'pandas' has no attribute 'core' (most likely due to a circular import)",
     "output_type": "error",
     "traceback": [
      "\u001b[1;31m---------------------------------------------------------------------------\u001b[0m",
      "\u001b[1;31mAttributeError\u001b[0m                            Traceback (most recent call last)",
      "\u001b[1;32m<ipython-input-66-7dd3504c366f>\u001b[0m in \u001b[0;36m<module>\u001b[1;34m\u001b[0m\n\u001b[1;32m----> 1\u001b[1;33m \u001b[1;32mimport\u001b[0m \u001b[0mpandas\u001b[0m \u001b[1;32mas\u001b[0m \u001b[0mpd\u001b[0m\u001b[1;33m\u001b[0m\u001b[1;33m\u001b[0m\u001b[0m\n\u001b[0m",
      "\u001b[1;32m~\\anaconda3\\lib\\site-packages\\pandas\\__init__.py\u001b[0m in \u001b[0;36m<module>\u001b[1;34m\u001b[0m\n\u001b[0;32m    177\u001b[0m \u001b[1;33m\u001b[0m\u001b[0m\n\u001b[0;32m    178\u001b[0m \u001b[1;32mfrom\u001b[0m \u001b[0mpandas\u001b[0m\u001b[1;33m.\u001b[0m\u001b[0mutil\u001b[0m\u001b[1;33m.\u001b[0m\u001b[0m_tester\u001b[0m \u001b[1;32mimport\u001b[0m \u001b[0mtest\u001b[0m\u001b[1;33m\u001b[0m\u001b[1;33m\u001b[0m\u001b[0m\n\u001b[1;32m--> 179\u001b[1;33m \u001b[1;32mimport\u001b[0m \u001b[0mpandas\u001b[0m\u001b[1;33m.\u001b[0m\u001b[0mtesting\u001b[0m\u001b[1;33m\u001b[0m\u001b[1;33m\u001b[0m\u001b[0m\n\u001b[0m\u001b[0;32m    180\u001b[0m \u001b[1;32mimport\u001b[0m \u001b[0mpandas\u001b[0m\u001b[1;33m.\u001b[0m\u001b[0marrays\u001b[0m\u001b[1;33m\u001b[0m\u001b[1;33m\u001b[0m\u001b[0m\n\u001b[0;32m    181\u001b[0m \u001b[1;33m\u001b[0m\u001b[0m\n",
      "\u001b[1;32m~\\anaconda3\\lib\\site-packages\\pandas\\testing.py\u001b[0m in \u001b[0;36m<module>\u001b[1;34m\u001b[0m\n\u001b[0;32m      3\u001b[0m \"\"\"\n\u001b[0;32m      4\u001b[0m \u001b[1;33m\u001b[0m\u001b[0m\n\u001b[1;32m----> 5\u001b[1;33m from pandas._testing import (\n\u001b[0m\u001b[0;32m      6\u001b[0m     \u001b[0massert_extension_array_equal\u001b[0m\u001b[1;33m,\u001b[0m\u001b[1;33m\u001b[0m\u001b[1;33m\u001b[0m\u001b[0m\n\u001b[0;32m      7\u001b[0m     \u001b[0massert_frame_equal\u001b[0m\u001b[1;33m,\u001b[0m\u001b[1;33m\u001b[0m\u001b[1;33m\u001b[0m\u001b[0m\n",
      "\u001b[1;32m~\\anaconda3\\lib\\site-packages\\pandas\\_testing.py\u001b[0m in \u001b[0;36m<module>\u001b[1;34m\u001b[0m\n\u001b[0;32m   3052\u001b[0m \u001b[1;33m\u001b[0m\u001b[0m\n\u001b[0;32m   3053\u001b[0m \u001b[1;33m\u001b[0m\u001b[0m\n\u001b[1;32m-> 3054\u001b[1;33m \u001b[0mcython_table\u001b[0m \u001b[1;33m=\u001b[0m \u001b[0mpd\u001b[0m\u001b[1;33m.\u001b[0m\u001b[0mcore\u001b[0m\u001b[1;33m.\u001b[0m\u001b[0mbase\u001b[0m\u001b[1;33m.\u001b[0m\u001b[0mSelectionMixin\u001b[0m\u001b[1;33m.\u001b[0m\u001b[0m_cython_table\u001b[0m\u001b[1;33m.\u001b[0m\u001b[0mitems\u001b[0m\u001b[1;33m(\u001b[0m\u001b[1;33m)\u001b[0m\u001b[1;33m\u001b[0m\u001b[1;33m\u001b[0m\u001b[0m\n\u001b[0m\u001b[0;32m   3055\u001b[0m \u001b[1;33m\u001b[0m\u001b[0m\n\u001b[0;32m   3056\u001b[0m \u001b[1;33m\u001b[0m\u001b[0m\n",
      "\u001b[1;31mAttributeError\u001b[0m: partially initialized module 'pandas' has no attribute 'core' (most likely due to a circular import)"
     ]
    }
   ],
   "source": [
    "import pandas as pd"
   ]
  },
  {
   "cell_type": "code",
   "execution_count": 65,
   "id": "af87edf6",
   "metadata": {},
   "outputs": [],
   "source": [
    "name_of_country = np.array(name_of_country)\n",
    "list_flag = np.array(list_flag)\n",
    "list_capital = np.array(list_capital)\n"
   ]
  },
  {
   "cell_type": "code",
   "execution_count": null,
   "id": "12dc1dbf",
   "metadata": {},
   "outputs": [],
   "source": []
  }
 ],
 "metadata": {
  "kernelspec": {
   "display_name": "Python 3",
   "language": "python",
   "name": "python3"
  },
  "language_info": {
   "codemirror_mode": {
    "name": "ipython",
    "version": 3
   },
   "file_extension": ".py",
   "mimetype": "text/x-python",
   "name": "python",
   "nbconvert_exporter": "python",
   "pygments_lexer": "ipython3",
   "version": "3.8.8"
  }
 },
 "nbformat": 4,
 "nbformat_minor": 5
}
