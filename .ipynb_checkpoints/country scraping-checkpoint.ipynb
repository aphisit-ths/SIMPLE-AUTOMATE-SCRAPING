{
 "cells": [
  {
   "cell_type": "code",
   "execution_count": 32,
   "id": "8e1d959f",
   "metadata": {},
   "outputs": [],
   "source": [
    "from selenium import webdriver\n",
    "from selenium.webdriver.common.keys import Keys\n",
    "from selenium.webdriver.chrome.options import Options\n",
    "from time import sleep\n",
    "import os\n",
    "option = webdriver.ChromeOptions()\n",
    "from bs4 import BeautifulSoup\n",
    "import numpy as np\n",
    "import requests\n",
    "import pandas as pd\n",
    "chrome_prefs = {}\n",
    "option.experimental_options[\"prefs\"] = chrome_prefs\n",
    "chrome_prefs[\"profile.default_content_settings\"] = {\"images\": 2}\n",
    "chrome_prefs[\"profile.managed_default_content_settings\"] = {\"images\": 2}"
   ]
  },
  {
   "cell_type": "markdown",
   "id": "61f90253",
   "metadata": {},
   "source": [
    "# INIT"
   ]
  },
  {
   "cell_type": "raw",
   "id": "ffd3e8ff",
   "metadata": {},
   "source": [
    "\"\"\"\n",
    "เป็นการ inititial browser หรือการเปิด browser ของ selenium ===>(ต้องเปิดก่อนใช้ selenium เสมอ)<===\n",
    "\"\"\"\n",
    "path = os.getcwd()\n",
    "driver = webdriver.Chrome(path+\"/chromedriver\" ,chrome_options=option)"
   ]
  },
  {
   "cell_type": "markdown",
   "id": "cce0777b",
   "metadata": {},
   "source": [
    "# visit web"
   ]
  },
  {
   "cell_type": "raw",
   "id": "5ece785e",
   "metadata": {
    "scrolled": true
   },
   "source": [
    "\n",
    "\n",
    "\"\"\"\n",
    "ตัวนี้เป็นการเปิดไปหน้าแรกของเว็ป\n",
    "โดยคำสั่ง get คือการให้ browser เข้าไป visit url ที่ส่งเข้าไป\n",
    "html_data = driver.page_source // คือการไปดึง html elements ต่างๆ ของปลายทางมาเก็บไว้ใน html_data\n",
    "soup คือการนำ html elements มาแปลง type เป็น soup เพื่อจะนำไปใช้ในงานของ soup ต่อไป\n",
    "\"\"\"\n",
    "\n",
    "url = \"https://www.britannica.com/topic/list-of-countries-1993160\"\n",
    "driver.get(url)\n",
    "sleep(0.5)\n",
    "\n",
    "#html_data = driver.page_source\n",
    "soup = BeautifulSoup(html_data ,\"html.parser\")"
   ]
  },
  {
   "cell_type": "code",
   "execution_count": 33,
   "id": "8497907c",
   "metadata": {
    "scrolled": true
   },
   "outputs": [],
   "source": [
    "import re\n",
    "\"\"\"\n",
    "ต่อจากด้านบนส่วนนี้จะเป็นการใช้ regular expression ในการสกัด link ออกมา (ขั้นตอนนี้จะไม่ได้ใช้ soup)\n",
    "r'<a href=\"(https://www.britannica.com/place/(.*?)) ==> จาก pattern คือการสกัด \n",
    "pattern (https://www.britannica.com/place/(กี่ตัวอักษรก็ได้ และมีได้แค่ชุดเดียว) ปล.ลองลบ ? เพื่อความเข้าใจ\n",
    "\"\"\"\n",
    "url = \"https://www.britannica.com/topic/list-of-countries-1993160\"\n",
    "html_data = requests.get(url).text\n",
    "#name = re.findall(r'<a href=\"https://www.britannica.com/place/(.*?)\" ',str(html_data))\n",
    "regx_link = re.findall(r'<a href=\"(https://www.britannica.com/place/(.*?))\" ',str(html_data))\n",
    "links = []\n",
    "for ele in regx_link:\n",
    "    link  = ele[0]\n",
    "    links.append(link)\n",
    "    "
   ]
  },
  {
   "cell_type": "code",
   "execution_count": 182,
   "id": "0957491c",
   "metadata": {},
   "outputs": [],
   "source": [
    "name_of_country = []\n",
    "info = []\n",
    "list_flag = []\n",
    "list_capital = []\n",
    "list_HeadGoverment  = [] # list ชื่อของ Head of Government หรือคนที่เป็นทั้ง Head of state and government\n",
    "list_info = []\n",
    "list_map = []\n",
    "\n",
    "links = []"
   ]
  },
  {
   "cell_type": "code",
   "execution_count": 183,
   "id": "077eb479",
   "metadata": {},
   "outputs": [],
   "source": [
    "def GET_LINK():\n",
    "    url = \"https://www.britannica.com/topic/list-of-countries-1993160\"\n",
    "    html_data = requests.get(url).text\n",
    "    #name = re.findall(r'<a href=\"https://www.britannica.com/place/(.*?)\" ',str(html_data))\n",
    "    regx_link = re.findall(r'<a href=\"(https://www.britannica.com/place/(.*?))\" ',str(html_data))\n",
    "    \n",
    "    for ele in regx_link:\n",
    "        link  = ele[0]\n",
    "        links.append(link)"
   ]
  },
  {
   "cell_type": "code",
   "execution_count": 184,
   "id": "4b5b2fbb",
   "metadata": {},
   "outputs": [],
   "source": [
    "def GET_FLAGURL(req):\n",
    "        ## GET FLAG URL\n",
    "        linkFlag = re.findall('<img loading=\"lazy\" src=\"(.*?lag.*?)\"',req) #flag 2 แบบ Flag flag ทำให้ไม่ matched เลยใช้แค่ (_lag)\n",
    "        if(linkFlag):\n",
    "            list_flag.append(linkFlag[0])\n",
    "        else:\n",
    "            linkFlag = re.findall('<img loading=\"lazy\" src=\"(.*?FLAG.*?)\"',req)\n",
    "            if(linkFlag): \n",
    "                    list_flag.append(linkFlag[0])\n",
    "            else:\n",
    "                linkFlag = re.findall('<img loading=\"lazy\" src=\"(.*?)\"',req) #ใช้กับประเทศ South Sudan เพราะใน link ไม่มีคำว่า flag เลย \n",
    "                list_flag.append(linkFlag[1])\n"
   ]
  },
  {
   "cell_type": "code",
   "execution_count": 185,
   "id": "34ea93d5",
   "metadata": {},
   "outputs": [],
   "source": [
    "def GET_CAPITAL(req):\n",
    "        nameOfCapital = re.findall('<a href=\"/place/.*?>(.*?)</a>',req)\n",
    "        if(nameOfCapital):\n",
    "            list_capital.append(nameOfCapital[0])\n",
    "        else:\n",
    "            nameOfCapital = re.findall('<dt class=\"d-inline\">Capital:</dt>\\n\\t\\t\\t\\t<dd class=\"d-inline\">\\n\\t\\t\\t\\t\\t<span class=\"fact-item\">(.*?)<',req)\n",
    "            if(nameOfCapital):\n",
    "                  list_capital.append(nameOfCapital[0])\n",
    "            else:\n",
    "                  list_capital.append(\"NAN\")\n"
   ]
  },
  {
   "cell_type": "code",
   "execution_count": 186,
   "id": "f9bd347f",
   "metadata": {},
   "outputs": [],
   "source": [
    "def GET_INFO(req):\n",
    "        rawInfo = re.findall('<p class=\"topic-paragraph\".*?>(.*)</p>',req) \n",
    "        if(rawInfo != []):\n",
    "            SumInfo = ''\n",
    "            for i in range (len(rawInfo)):\n",
    "                cleanInfo = re.sub('<.*?>','',rawInfo[i]) #remove html tag\n",
    "                SumInfo += cleanInfo #sum all info\n",
    "            list_info.append(SumInfo)\n",
    "        else:\n",
    "            print(\"error\")\n"
   ]
  },
  {
   "cell_type": "code",
   "execution_count": 187,
   "id": "c313daa1",
   "metadata": {},
   "outputs": [],
   "source": [
    "list_prefix = ['President: ', 'Prime Minister: ','Prime Minister:','Premier: ', 'King: ','Supreme Leader']"
   ]
  },
  {
   "cell_type": "code",
   "execution_count": 188,
   "id": "c86d9561",
   "metadata": {},
   "outputs": [],
   "source": [
    "def GET_DIRECTOR(req):\n",
    "        HeadOf = re.findall('Head.*?Government.*:</dt>\\n\\t\\t\\t\\t<dd class=\"d-inline\">\\n\\t\\t\\t\\t\\t<span class=\"fact-item\">(.*?)<',req) # ใช้ได้กับชื่อที่เป็น tag span ไม่ matched กับ ชื่อที่เป็น tag a\n",
    "        if(HeadOf != [] and HeadOf[0] not in list_prefix): # ถ้า HeadOf ดึงข้อมูลมาได้แค่ prefix จะไม่เข้าเงื่อนไข  \n",
    "            list_HeadGoverment.append(HeadOf[0])\n",
    "        else:\n",
    "        #ใช้กับชื่อที่มี tag a >> prefix + name\n",
    "            pre = re.findall('Head.*?Government:</dt>\\n\\t\\t\\t\\t<dd class=\"d-inline\">\\n\\t\\t\\t\\t\\t<span class=\"fact-item\">(.*?)<',req) #prefix\n",
    "            name = re.findall('Head.*?Government:</dt>\\n\\t\\t\\t\\t<dd class=\"d-inline\">\\n\\t\\t\\t\\t\\t<span class=\"fact-item\">.*?: <a href=\".*?>(.*?)<',req) #name\n",
    "            if(HeadOf != [] and pre[0] != '' and name[0] != ''):\n",
    "                headname = pre[0]+name[0]\n",
    "                list_HeadGoverment.append(headname)\n",
    "            else:\n",
    "                  list_HeadGoverment.append(\"President: Giuseppe Bertello\") # ประเทศ Vatican-City ไม่มีหัวข้อ HeadOf เลยเพิ่มชื่อจากที่หาในวิกิไป\n"
   ]
  },
  {
   "cell_type": "code",
   "execution_count": 189,
   "id": "7f555894",
   "metadata": {},
   "outputs": [],
   "source": [
    "def GET_MAP(req):\n",
    "    linkmap = re.findall('<img src=\"(https://cdn.britannica.com/.*?[m|M]ap-.*?)\"',req) #re เช็ค link ที่มีคำว่า map หรือ Map\n",
    "    if(linkmap != []):\n",
    "        list_map.append(linkmap[len(linkmap)-1]) # มีบางประเทศ re match ได้มาหลาย link แต่ส่วนใหญ่ตัวสุดท้ายใน list จะเป็น link map ที่ต้องการ  \n",
    "    else:\n",
    "        usaMap = re.findall('<img src=\"(https://cdn.britannica.com/.*?The-United-States.*?)\"',req) # for USA\n",
    "        if(usaMap):\n",
    "            list_map.append(usaMap[len(usaMap) -1])\n",
    "        else:\n",
    "            list_map.append(\"NaN\")\n"
   ]
  },
  {
   "cell_type": "code",
   "execution_count": null,
   "id": "2c5a5f18",
   "metadata": {
    "scrolled": false
   },
   "outputs": [],
   "source": [
    "GET_LINK()\n",
    "for url in links:\n",
    "    r = requests.get(url)\n",
    "    req = r.text\n",
    "   \n",
    "    ## GET NAME OF COUNTRY\n",
    "    nameOfCountry = re.findall('.*<h1 class=\"mb-0\">(.*)</h1>',req)\n",
    "    if(nameOfCountry):\n",
    "        name_of_country.append(nameOfCountry[0])\n",
    "        \n",
    "    ## GET FLAG URL\n",
    "        GET_FLAGURL(req)  \n",
    "        \n",
    "    ## GET CAPTITAL\n",
    "        GET_CAPITAL(req)\n",
    "    \n",
    "    ## GET DIRECTOR\n",
    "        GET_DIRECTOR(req)\n",
    "                     \n",
    "    ## GET INFO\n",
    "        GET_INFO(req)\n",
    "                     \n",
    "      ## GET MAP URL\n",
    "        GET_MAP(req)\n",
    "        \n",
    "                     \n",
    "    else:\n",
    "        nameList.append(\"NAN\")\n",
    "        "
   ]
  },
  {
   "cell_type": "markdown",
   "id": "bc6da162",
   "metadata": {},
   "source": [
    "# PACKING TO DATAFRAME\n"
   ]
  },
  {
   "cell_type": "raw",
   "id": "91f464ed",
   "metadata": {},
   "source": [
    "name_of_country = []\n",
    "list_flag = []\n",
    "list_capital = []\n",
    "list_HeadGoverment  = [] # list ชื่อของ Head of Government หรือคนที่เป็นทั้ง Head of state and government\n",
    "list_info = []\n",
    "list_map = []"
   ]
  },
  {
   "cell_type": "code",
   "execution_count": null,
   "id": "0fb9f7e5",
   "metadata": {},
   "outputs": [],
   "source": [
    "name_df = pd.DataFrame(name_of_country ,columns=[\"name\"])\n",
    "capital_df = pd.DataFrame(list_capital ,columns=[\"capital\"])\n",
    "info_df = pd.DataFrame(list_info ,columns=[\"info\"])\n",
    "flagUrl_df = pd.DataFrame(list_flag ,columns=[\"flagUrl\"])\n",
    "sourceUrl_df = pd.DataFrame(source_link ,columns=[\"sourceUrl\"])\n",
    "headGoverment = pd.DataFrame(list_HeadGoverment ,columns=[\"headOfGoverment\"])\n",
    "mapUrl_df = pd.DataFrame(list_map ,columns=[\"mapUrl\"])\n",
    "\n",
    "pack = [name_df ,capital_df ,info_df,flagUrl_df  ,headGoverment ,mapUrl_df ,sourceUrl_df ]\n",
    "\n",
    "country_data = pd.concat(pack, axis=1, join=\"inner\")"
   ]
  },
  {
   "cell_type": "code",
   "execution_count": null,
   "id": "74584d01",
   "metadata": {},
   "outputs": [],
   "source": [
    "country_data"
   ]
  },
  {
   "cell_type": "markdown",
   "id": "e710823e",
   "metadata": {},
   "source": [
    "# PACK TO JSON"
   ]
  },
  {
   "cell_type": "code",
   "execution_count": null,
   "id": "e68f91d6",
   "metadata": {
    "scrolled": true
   },
   "outputs": [],
   "source": [
    "\"\"\"\n",
    "to_json(orient='records') จะ return เป็นแค่ String\n",
    "การที่จะทำให้เป็น json files จำเป็นต้อง parsed โดยการใช้ json.loads(\"...json string fomat...\")\n",
    "\"\"\"\n",
    "import json\n",
    "json_str = country_data.to_json(orient='records')\n",
    "parsed = json.loads(json_str)\n"
   ]
  },
  {
   "cell_type": "code",
   "execution_count": null,
   "id": "20384bda",
   "metadata": {},
   "outputs": [],
   "source": [
    "type(parsed)"
   ]
  },
  {
   "cell_type": "code",
   "execution_count": null,
   "id": "9ed1e15d",
   "metadata": {},
   "outputs": [],
   "source": [
    "with open(\"sample.json\", \"w\" ,encoding=\"utf-8\") as outfile:\n",
    "    json.dump(parsed, outfile)"
   ]
  },
  {
   "cell_type": "code",
   "execution_count": null,
   "id": "e156469e",
   "metadata": {},
   "outputs": [],
   "source": []
  }
 ],
 "metadata": {
  "kernelspec": {
   "display_name": "Python 3",
   "language": "python",
   "name": "python3"
  },
  "language_info": {
   "codemirror_mode": {
    "name": "ipython",
    "version": 3
   },
   "file_extension": ".py",
   "mimetype": "text/x-python",
   "name": "python",
   "nbconvert_exporter": "python",
   "pygments_lexer": "ipython3",
   "version": "3.8.8"
  }
 },
 "nbformat": 4,
 "nbformat_minor": 5
}
